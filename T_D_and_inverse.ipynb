{
 "cells": [
  {
   "cell_type": "code",
   "execution_count": null,
   "metadata": {},
   "outputs": [],
   "source": [
    "import numpy as np\n",
    "import pandas as pd\n",
    "from sympy.ntheory import mobius"
   ]
  },
  {
   "cell_type": "markdown",
   "metadata": {},
   "source": [
    "Step1: We inplement the matrix M and its inverse. We want the size to be large, so we set size to be 10000*10000 for now, we can vary the size later."
   ]
  },
  {
   "cell_type": "code",
   "execution_count": null,
   "metadata": {},
   "outputs": [],
   "source": [
    "# Dimensions of the matrix\n",
    "size = 10000\n",
    "\n",
    "# Initialize the matrix with zeros\n",
    "M = np.zeros((size, size), dtype=int)\n",
    "\n",
    "# Populate the matrix based on the divisibility condition\n",
    "for q in range(1, size + 1):  # 1-based indexing for q\n",
    "    for j in range(1, size + 1):  # 1-based indexing for j\n",
    "        if j % q == 0:  # Check if j is divisible by q\n",
    "            M[q - 1, j - 1] = 1  # Set M[q-1, j-1] = 1 (convert to 0-based indexing)\n",
    "\n",
    "# Save the matrix to a file\n",
    "output_file = \"matrix_M_10000x10000.csv\"\n",
    "np.savetxt(output_file, M, fmt='%d', delimiter=',')\n",
    "print(f\"Matrix saved to {output_file}\")"
   ]
  },
  {
   "cell_type": "code",
   "execution_count": null,
   "metadata": {},
   "outputs": [],
   "source": [
    "# Dimensions of the matrix\n",
    "size = 10000\n",
    "\n",
    "# Initialize the matrix with zeros\n",
    "M_inverse = np.zeros((size, size), dtype=int)\n",
    "\n",
    "# Populate the matrix based on the divisibility condition and Möbius function\n",
    "for q in range(1, size + 1):  # Loop over q\n",
    "    for j in range(1, size + 1):  # Loop over j\n",
    "        if j % q == 0:  # Check if q divides j\n",
    "            M_inverse[q - 1, j - 1] = mobius(j // q)  # Compute Möbius function for q/j\n",
    "\n",
    "# Save the matrix to a file\n",
    "output_file = \"matrix_M_inverse_10000x10000.csv\"\n",
    "np.savetxt(output_file, M_inverse, fmt='%d', delimiter=',')\n",
    "print(f\"M_inverse matrix saved to {output_file}\")"
   ]
  },
  {
   "cell_type": "markdown",
   "metadata": {},
   "source": [
    "Step2: Implement the matrix D and its inverse. "
   ]
  },
  {
   "cell_type": "code",
   "execution_count": null,
   "metadata": {},
   "outputs": [],
   "source": [
    "# Define the sinc function\n",
    "def sinc(x):\n",
    "    return np.sin(x) / x if x != 0 else 1.0  # Handle x=0 case to return 1.0"
   ]
  },
  {
   "cell_type": "code",
   "execution_count": null,
   "metadata": {},
   "outputs": [],
   "source": [
    "# Dimensions of the matrix\n",
    "size = 10000\n",
    "\n",
    "# Initialize the diagonal matrix with zeros\n",
    "D = np.zeros((size, size), dtype=float)\n",
    "\n",
    "# Populate the diagonal entries, notive we need to set the first entry to be 1.\n",
    "D[0, 0] = 1\n",
    "for q in range(2, size + 1):\n",
    "    value = np.pi / q\n",
    "    D[q - 1, q - 1] = sinc(value)\n",
    "\n",
    "# Save the matrix to a file\n",
    "output_file = \"matrix_D_10000x10000.csv\"\n",
    "np.savetxt(output_file, D, fmt='%.6e', delimiter=',')\n",
    "print(f\"D matrix saved to {output_file}\")\n",
    "\n",
    "# We check the first 5 rows and columns of matrix D\n",
    "print(D[:5, :5])"
   ]
  },
  {
   "cell_type": "code",
   "execution_count": null,
   "metadata": {},
   "outputs": [],
   "source": [
    "# Dimensions of the matrix\n",
    "size = 10000\n",
    "\n",
    "# Initialize the diagonal matrix with zeros\n",
    "D_inverse = np.zeros((size, size), dtype=float)\n",
    "\n",
    "# Populate the diagonal entries\n",
    "D_inverse[0, 0] = 1\n",
    "for q in range(2, size + 1):\n",
    "    value = np.pi / q\n",
    "    D_inverse[q - 1, q - 1] = 1 / sinc(value)\n",
    "\n",
    "# Save the matrix to a file\n",
    "output_file = \"matrix_D_inverse_10000x10000.csv\"\n",
    "np.savetxt(output_file, D_inverse, fmt='%.6e', delimiter=',')\n",
    "print(f\"D_inverse matrix saved to {output_file}\")\n",
    "\n",
    "# We check the first 5 rows and columns of matrix D_inverse\n",
    "print(D_inverse[:5, :5])"
   ]
  },
  {
   "cell_type": "markdown",
   "metadata": {},
   "source": [
    "Step3: Implement the matrix T_D and its inverse."
   ]
  },
  {
   "cell_type": "code",
   "execution_count": null,
   "metadata": {},
   "outputs": [],
   "source": [
    "# Load the precomputed D matrix\n",
    "D = np.loadtxt(\"matrix_D_10000x10000.csv\", delimiter=',')\n",
    "# Load the precomputed D_inverse matrix\n",
    "D_inverse = np.loadtxt(\"matrix_D_inverse_10000x10000.csv\", delimiter=',')\n",
    "# Load the precomputed M matrix\n",
    "M = np.loadtxt(\"matrix_M_10000x10000.csv\", delimiter=',')\n",
    "# Load the precomputed M_inverse matrix\n",
    "M_inverse = np.loadtxt(\"matrix_M_inverse_10000x10000.csv\", delimiter=',')\n",
    "\n",
    "# Compute T_D = D * M\n",
    "T_D = np.dot(D, M)\n",
    "# Compute T_D_inverse = D * M_inverse\n",
    "T_D_inverse = np.dot(D_inverse, M_inverse)\n",
    "\n",
    "# Save T_D to a file\n",
    "output_file = \"matrix_T_D_10000x10000.csv\"\n",
    "np.savetxt(output_file, T_D, fmt='%.10f', delimiter=',')\n",
    "print(f\"T_D matrix saved to {output_file}\")\n",
    "# Save T_D_inverse to a file\n",
    "output_file = \"matrix_T_D_inverse_10000x10000.csv\"\n",
    "np.savetxt(output_file, T_D_inverse, fmt='%.10f', delimiter=',')\n",
    "print(f\"T_D_inverse matrix saved to {output_file}\")"
   ]
  }
 ],
 "metadata": {
  "kernelspec": {
   "display_name": "Python 3",
   "language": "python",
   "name": "python3"
  },
  "language_info": {
   "name": "python",
   "version": "3.13.0"
  },
  "orig_nbformat": 4
 },
 "nbformat": 4,
 "nbformat_minor": 2
}
